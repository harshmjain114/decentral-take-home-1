{
  "nbformat": 4,
  "nbformat_minor": 0,
  "metadata": {
    "colab": {
      "provenance": []
    },
    "kernelspec": {
      "name": "python3",
      "display_name": "Python 3"
    },
    "language_info": {
      "name": "python"
    }
  },
  "cells": [
    {
      "cell_type": "code",
      "source": [
        "import json\n",
        "import jsonschema\n",
        "from jsonschema import validate\n",
        "\n",
        "mySchema = {\n",
        "    \"type\": \"object\",\n",
        "    \"properties\": {\n",
        "        \"name\": {\"const\": \"sheet2\"},\n",
        "        \"freeze\": {\"const\": \"A1\"},\n",
        "        \"styles\": {\"type\": \"array\", \"items\": False},\n",
        "        \"merges\": {\"type\": \"array\", \"items\": False},\n",
        "        \"rows\": {\"type\": \"object\", \"additionalProperties\": False},\n",
        "        \"validations\": {\"type\": \"array\", \"items\": False}\n",
        "    },\n",
        "    \"required\": [\"name\", \"freeze\", \"styles\", \"merges\", \"rows\", \"validations\"]\n",
        "}\n",
        "\n",
        "def validateSchema(jsonData):\n",
        "    try:\n",
        "        validate(instance=jsonData, schema=mySchema)\n",
        "    except jsonschema.exceptions.ValidationError as err:\n",
        "        return False\n",
        "    return True\n",
        "\n",
        "def validateJson(data):\n",
        "  try:\n",
        "    return validateSchema(json.loads(data))\n",
        "  except (ValueError, TypeError) as err:\n",
        "    return False"
      ],
      "metadata": {
        "id": "MtAMoLLJS-Bo"
      },
      "execution_count": 12,
      "outputs": []
    },
    {
      "cell_type": "code",
      "source": [
        "import unittest\n",
        "\n",
        "class TestJSON(unittest.TestCase):\n",
        "    def test_schema(self):\n",
        "        self.assertFalse(validateJson('{\"name\": \"sheet2\", \"freeze\": \"A1\", \"styles\": [], \"merges\": [], \"rows\": {}, \"validations\": []}'))\n",
        "        self.assertFalse(validateJson('{\"name\": \"sheet2\", \"freeze\": \"A1\", \"styles\": [], \"merges\": [], \"rows\": {}'))\n",
        "        self.assertFalse(validateJson('{\"name\": \"sheet2\", \"freeze\": \"A1\"}'))\n",
        "        self.assertFalse(validateJson('{}'))\n",
        "        self.assertFalse(validateJson('{\"name\": \"sheet2\", \"freeze\": \"A1\", \"styles\": [\"Hello\"], \"merges\": [], \"rows\": {}, \"validations\": []}'))\n",
        "        self.assertFalse(validateJson('{\"name\": \"sheet\", \"freeze\": \"A1\", \"styles\": [], \"merges\": [], \"rows\": {}, \"validations\": []}'))\n",
        "        self.assertFalse(validateJson('{\"name\": \"sheet2\", \"freeze\": \"A2\", \"styles\": \"A1\", \"merges\": [], \"rows\": {}, \"validations\": []}'))\n",
        "        self.assertFalse(validateJson('{\"name\": \"sheet2\", \"freeze\": \"A1\", \"styles\": [], \"merges\": [1, 2], \"rows\": {}, \"validations\": []}'))\n",
        "        self.assertFalse(validateJson('{\"name\": \"sheet2\", \"freeze\": \"A1\", \"styles\": [], \"merges\": [], \"rows\": {\"Hello\": \"World\"}, \"validations\": []}'))\n",
        "        self.assertFalse(validateJson('{\"name\": \"sheet2\", \"freeze\": \"A1\", \"styles\": [], \"merges\": [], \"rows\": {}, \"validations\": {}}'))\n",
        "\n",
        "    def test_types(self):\n",
        "      self.assertFalse(validateJson(\"This is a string, not an object. This won't work!\"))\n",
        "      self.assertFalse(validateJson(100))\n",
        "      self.assertFalse(validateJson(12.0))\n",
        "      self.assertFalse(validateJson(\"\"))\n",
        "      \n",
        "unittest.main(argv=[''], verbosity=2, exit=False)"
      ],
      "metadata": {
        "colab": {
          "base_uri": "https://localhost:8080/"
        },
        "id": "xhYy5wEHyBDx",
        "outputId": "dff3278f-59e5-49d9-fd28-edc97944737c"
      },
      "execution_count": 16,
      "outputs": [
        {
          "output_type": "stream",
          "name": "stderr",
          "text": [
            "test_schema (__main__.TestJSON) ... FAIL\n",
            "test_types (__main__.TestJSON) ... ok\n",
            "\n",
            "======================================================================\n",
            "FAIL: test_schema (__main__.TestJSON)\n",
            "----------------------------------------------------------------------\n",
            "Traceback (most recent call last):\n",
            "  File \"<ipython-input-16-e3052e221470>\", line 5, in test_schema\n",
            "    self.assertFalse(validateJson('{\"name\": \"sheet2\", \"freeze\": \"A1\", \"styles\": [], \"merges\": [], \"rows\": {}, \"validations\": []}'))\n",
            "AssertionError: True is not false\n",
            "\n",
            "----------------------------------------------------------------------\n",
            "Ran 2 tests in 0.013s\n",
            "\n",
            "FAILED (failures=1)\n"
          ]
        },
        {
          "output_type": "execute_result",
          "data": {
            "text/plain": [
              "<unittest.main.TestProgram at 0x7fe951a8e290>"
            ]
          },
          "metadata": {},
          "execution_count": 16
        }
      ]
    },
    {
      "cell_type": "code",
      "source": [],
      "metadata": {
        "id": "HtFUue966pet"
      },
      "execution_count": null,
      "outputs": []
    }
  ]
}